{
 "cells": [
  {
   "cell_type": "markdown",
   "id": "1313007a",
   "metadata": {},
   "source": [
    "# Numpy Practice Notebook "
   ]
  },
  {
   "cell_type": "markdown",
   "id": "8e99c18d",
   "metadata": {},
   "source": [
    "### Loading Library"
   ]
  },
  {
   "cell_type": "code",
   "execution_count": 1,
   "id": "107c4140",
   "metadata": {},
   "outputs": [],
   "source": [
    "import numpy as np"
   ]
  },
  {
   "cell_type": "markdown",
   "id": "72ca6c1e",
   "metadata": {},
   "source": [
    "### 1. Converting array to list & list to array"
   ]
  },
  {
   "cell_type": "code",
   "execution_count": 2,
   "id": "85dfc393",
   "metadata": {},
   "outputs": [],
   "source": [
    "# array from a python list\n",
    "\n",
    "list1 = {2, 4, 6, 8, 10}\n",
    "arr1 = np.array(list1)"
   ]
  },
  {
   "cell_type": "code",
   "execution_count": 3,
   "id": "f92442af",
   "metadata": {},
   "outputs": [
    {
     "data": {
      "text/plain": [
       "array({2, 4, 6, 8, 10}, dtype=object)"
      ]
     },
     "execution_count": 3,
     "metadata": {},
     "output_type": "execute_result"
    }
   ],
   "source": [
    "arr1"
   ]
  },
  {
   "cell_type": "code",
   "execution_count": 4,
   "id": "b7e4a157",
   "metadata": {},
   "outputs": [
    {
     "data": {
      "text/plain": [
       "{2, 4, 6, 8, 10}"
      ]
     },
     "execution_count": 4,
     "metadata": {},
     "output_type": "execute_result"
    }
   ],
   "source": [
    "list1"
   ]
  },
  {
   "cell_type": "code",
   "execution_count": 5,
   "id": "00036c33",
   "metadata": {},
   "outputs": [
    {
     "data": {
      "text/plain": [
       "set"
      ]
     },
     "execution_count": 5,
     "metadata": {},
     "output_type": "execute_result"
    }
   ],
   "source": [
    "type(list1)"
   ]
  },
  {
   "cell_type": "code",
   "execution_count": 6,
   "id": "9fbe403b",
   "metadata": {},
   "outputs": [
    {
     "data": {
      "text/plain": [
       "numpy.ndarray"
      ]
     },
     "execution_count": 6,
     "metadata": {},
     "output_type": "execute_result"
    }
   ],
   "source": [
    "type(arr1)"
   ]
  },
  {
   "cell_type": "code",
   "execution_count": 7,
   "id": "8aa2b70e",
   "metadata": {},
   "outputs": [],
   "source": [
    "list2 = [[9 , 0 , 4 , 6],\n",
    "         [4 , 6 , 2 , 1]]\n",
    "arr2 = np.array(list2)"
   ]
  },
  {
   "cell_type": "code",
   "execution_count": 8,
   "id": "8684ce93",
   "metadata": {},
   "outputs": [
    {
     "data": {
      "text/plain": [
       "array([[9, 0, 4, 6],\n",
       "       [4, 6, 2, 1]])"
      ]
     },
     "execution_count": 8,
     "metadata": {},
     "output_type": "execute_result"
    }
   ],
   "source": [
    "arr2"
   ]
  },
  {
   "cell_type": "code",
   "execution_count": 9,
   "id": "a37e5b73",
   "metadata": {},
   "outputs": [],
   "source": [
    "# float array\n",
    "\n",
    "arr2 = np.array(list2, dtype = 'float')"
   ]
  },
  {
   "cell_type": "code",
   "execution_count": 10,
   "id": "9505cbc5",
   "metadata": {},
   "outputs": [
    {
     "data": {
      "text/plain": [
       "array([[9., 0., 4., 6.],\n",
       "       [4., 6., 2., 1.]])"
      ]
     },
     "execution_count": 10,
     "metadata": {},
     "output_type": "execute_result"
    }
   ],
   "source": [
    "arr2"
   ]
  },
  {
   "cell_type": "code",
   "execution_count": 11,
   "id": "a9603d8a",
   "metadata": {},
   "outputs": [],
   "source": [
    "arr3 = arr2.astype('int')"
   ]
  },
  {
   "cell_type": "code",
   "execution_count": 12,
   "id": "d9cfe106",
   "metadata": {},
   "outputs": [
    {
     "data": {
      "text/plain": [
       "array([[9, 0, 4, 6],\n",
       "       [4, 6, 2, 1]])"
      ]
     },
     "execution_count": 12,
     "metadata": {},
     "output_type": "execute_result"
    }
   ],
   "source": [
    "arr3"
   ]
  },
  {
   "cell_type": "code",
   "execution_count": 13,
   "id": "5e2d9ea8",
   "metadata": {},
   "outputs": [],
   "source": [
    "arr4 = np.array(list2, dtype = 'bool')"
   ]
  },
  {
   "cell_type": "code",
   "execution_count": 14,
   "id": "69f6a702",
   "metadata": {},
   "outputs": [
    {
     "data": {
      "text/plain": [
       "array([[ True, False,  True,  True],\n",
       "       [ True,  True,  True,  True]])"
      ]
     },
     "execution_count": 14,
     "metadata": {},
     "output_type": "execute_result"
    }
   ],
   "source": [
    "arr4"
   ]
  },
  {
   "cell_type": "code",
   "execution_count": 15,
   "id": "d30579ec",
   "metadata": {},
   "outputs": [
    {
     "data": {
      "text/plain": [
       "[[9, 0, 4, 6], [4, 6, 2, 1]]"
      ]
     },
     "execution_count": 15,
     "metadata": {},
     "output_type": "execute_result"
    }
   ],
   "source": [
    "list2"
   ]
  },
  {
   "cell_type": "code",
   "execution_count": 16,
   "id": "aa0b3a9a",
   "metadata": {},
   "outputs": [],
   "source": [
    "arr5 = np.array([2 , 5 , 2.0 , 'y'], dtype = 'object')"
   ]
  },
  {
   "cell_type": "code",
   "execution_count": 17,
   "id": "e8edb0cb",
   "metadata": {},
   "outputs": [
    {
     "data": {
      "text/plain": [
       "array([2, 5, 2.0, 'y'], dtype=object)"
      ]
     },
     "execution_count": 17,
     "metadata": {},
     "output_type": "execute_result"
    }
   ],
   "source": [
    "arr5"
   ]
  },
  {
   "cell_type": "code",
   "execution_count": 18,
   "id": "13580f35",
   "metadata": {},
   "outputs": [],
   "source": [
    "list3 = arr5.tolist()"
   ]
  },
  {
   "cell_type": "code",
   "execution_count": 19,
   "id": "22ca2e27",
   "metadata": {},
   "outputs": [
    {
     "data": {
      "text/plain": [
       "[2, 5, 2.0, 'y']"
      ]
     },
     "execution_count": 19,
     "metadata": {},
     "output_type": "execute_result"
    }
   ],
   "source": [
    "list3"
   ]
  },
  {
   "cell_type": "code",
   "execution_count": 20,
   "id": "38d06fe8",
   "metadata": {},
   "outputs": [
    {
     "data": {
      "text/plain": [
       "numpy.ndarray"
      ]
     },
     "execution_count": 20,
     "metadata": {},
     "output_type": "execute_result"
    }
   ],
   "source": [
    "type(arr5)"
   ]
  },
  {
   "cell_type": "code",
   "execution_count": 21,
   "id": "1d50f696",
   "metadata": {},
   "outputs": [
    {
     "data": {
      "text/plain": [
       "list"
      ]
     },
     "execution_count": 21,
     "metadata": {},
     "output_type": "execute_result"
    }
   ],
   "source": [
    "type(list3)"
   ]
  },
  {
   "cell_type": "markdown",
   "id": "e2d611ff",
   "metadata": {},
   "source": [
    "### 2. Array Dimensions"
   ]
  },
  {
   "cell_type": "code",
   "execution_count": 22,
   "id": "ce3a9d6b",
   "metadata": {},
   "outputs": [
    {
     "data": {
      "text/plain": [
       "array([[9., 0., 4., 6.],\n",
       "       [4., 6., 2., 1.]])"
      ]
     },
     "execution_count": 22,
     "metadata": {},
     "output_type": "execute_result"
    }
   ],
   "source": [
    "arr2"
   ]
  },
  {
   "cell_type": "code",
   "execution_count": 23,
   "id": "95107981",
   "metadata": {},
   "outputs": [
    {
     "data": {
      "text/plain": [
       "(2, 4)"
      ]
     },
     "execution_count": 23,
     "metadata": {},
     "output_type": "execute_result"
    }
   ],
   "source": [
    "arr2.shape\n",
    "#(row,clumn)"
   ]
  },
  {
   "cell_type": "code",
   "execution_count": 24,
   "id": "3d266ea3",
   "metadata": {},
   "outputs": [
    {
     "data": {
      "text/plain": [
       "8"
      ]
     },
     "execution_count": 24,
     "metadata": {},
     "output_type": "execute_result"
    }
   ],
   "source": [
    "arr2.size"
   ]
  },
  {
   "cell_type": "code",
   "execution_count": 25,
   "id": "8bb70fbb",
   "metadata": {},
   "outputs": [
    {
     "data": {
      "text/plain": [
       "dtype('float64')"
      ]
     },
     "execution_count": 25,
     "metadata": {},
     "output_type": "execute_result"
    }
   ],
   "source": [
    "arr2.dtype"
   ]
  },
  {
   "cell_type": "code",
   "execution_count": 26,
   "id": "6db9a631",
   "metadata": {},
   "outputs": [
    {
     "data": {
      "text/plain": [
       "2"
      ]
     },
     "execution_count": 26,
     "metadata": {},
     "output_type": "execute_result"
    }
   ],
   "source": [
    "arr2.ndim"
   ]
  },
  {
   "cell_type": "markdown",
   "id": "8fa9d64d",
   "metadata": {},
   "source": [
    "### 3. Reversing Rows & Columns"
   ]
  },
  {
   "cell_type": "code",
   "execution_count": 27,
   "id": "1702e5ce",
   "metadata": {},
   "outputs": [
    {
     "data": {
      "text/plain": [
       "array([[9., 0., 4., 6.],\n",
       "       [4., 6., 2., 1.]])"
      ]
     },
     "execution_count": 27,
     "metadata": {},
     "output_type": "execute_result"
    }
   ],
   "source": [
    "arr2"
   ]
  },
  {
   "cell_type": "code",
   "execution_count": 28,
   "id": "a66c8a89",
   "metadata": {},
   "outputs": [
    {
     "data": {
      "text/plain": [
       "array([[4., 6., 2., 1.],\n",
       "       [9., 0., 4., 6.]])"
      ]
     },
     "execution_count": 28,
     "metadata": {},
     "output_type": "execute_result"
    }
   ],
   "source": [
    "arr2[::-1]\n",
    "# reversing rows"
   ]
  },
  {
   "cell_type": "code",
   "execution_count": 29,
   "id": "1a325d1c",
   "metadata": {},
   "outputs": [
    {
     "data": {
      "text/plain": [
       "array([[1., 2., 6., 4.],\n",
       "       [6., 4., 0., 9.]])"
      ]
     },
     "execution_count": 29,
     "metadata": {},
     "output_type": "execute_result"
    }
   ],
   "source": [
    "arr2[::-1, ::-1]\n",
    "# reversing columns"
   ]
  },
  {
   "cell_type": "markdown",
   "id": "c85526d5",
   "metadata": {},
   "source": [
    "### 4. Specific Element Extraction"
   ]
  },
  {
   "cell_type": "code",
   "execution_count": 30,
   "id": "3f301100",
   "metadata": {},
   "outputs": [
    {
     "data": {
      "text/plain": [
       "array([[9., 0., 4., 6.],\n",
       "       [4., 6., 2., 1.]])"
      ]
     },
     "execution_count": 30,
     "metadata": {},
     "output_type": "execute_result"
    }
   ],
   "source": [
    "arr2"
   ]
  },
  {
   "cell_type": "code",
   "execution_count": 31,
   "id": "7790ee2e",
   "metadata": {},
   "outputs": [
    {
     "data": {
      "text/plain": [
       "array([9., 0., 4., 6.])"
      ]
     },
     "execution_count": 31,
     "metadata": {},
     "output_type": "execute_result"
    }
   ],
   "source": [
    "arr2[0, :]\n",
    "# Extraacting 1st (0index) row elements"
   ]
  },
  {
   "cell_type": "code",
   "execution_count": 32,
   "id": "ddeb8813",
   "metadata": {},
   "outputs": [
    {
     "data": {
      "text/plain": [
       "array([[9., 0., 4., 6.]])"
      ]
     },
     "execution_count": 32,
     "metadata": {},
     "output_type": "execute_result"
    }
   ],
   "source": [
    "arr2[:1, :]\n",
    "# Extracting elements of 1st row, all columns"
   ]
  },
  {
   "cell_type": "code",
   "execution_count": 33,
   "id": "75d6bf61",
   "metadata": {},
   "outputs": [
    {
     "data": {
      "text/plain": [
       "array([[9., 0., 4., 6.],\n",
       "       [4., 6., 2., 1.]])"
      ]
     },
     "execution_count": 33,
     "metadata": {},
     "output_type": "execute_result"
    }
   ],
   "source": [
    "arr2[:2, :]\n",
    "# Extracting elements of 1st row & 2nd row, all columns"
   ]
  },
  {
   "cell_type": "code",
   "execution_count": 34,
   "id": "bae2e6b8",
   "metadata": {},
   "outputs": [
    {
     "data": {
      "text/plain": [
       "array([[9., 0., 4., 6.]])"
      ]
     },
     "execution_count": 34,
     "metadata": {},
     "output_type": "execute_result"
    }
   ],
   "source": [
    "arr2[:-1, :]\n",
    "# Extracting all rows except the last row"
   ]
  },
  {
   "cell_type": "code",
   "execution_count": 35,
   "id": "7a3dcbfc",
   "metadata": {},
   "outputs": [
    {
     "data": {
      "text/plain": [
       "array([6., 1.])"
      ]
     },
     "execution_count": 35,
     "metadata": {},
     "output_type": "execute_result"
    }
   ],
   "source": [
    "arr2[:, 3]\n",
    "# Extracting elements of all rows from the 4th column (3rd index)"
   ]
  },
  {
   "cell_type": "code",
   "execution_count": 36,
   "id": "8e45df46",
   "metadata": {},
   "outputs": [
    {
     "data": {
      "text/plain": [
       "array([6., 1.])"
      ]
     },
     "execution_count": 36,
     "metadata": {},
     "output_type": "execute_result"
    }
   ],
   "source": [
    "arr2[: , -1]\n",
    "# Extracting elements of last column"
   ]
  },
  {
   "cell_type": "code",
   "execution_count": 37,
   "id": "12a6efb6",
   "metadata": {},
   "outputs": [
    {
     "data": {
      "text/plain": [
       "array([[0., 4.],\n",
       "       [6., 2.]])"
      ]
     },
     "execution_count": 37,
     "metadata": {},
     "output_type": "execute_result"
    }
   ],
   "source": [
    "arr2[:, 1:3]\n",
    "# Extracting all columns from column index 1 till before column index 3.  "
   ]
  },
  {
   "cell_type": "code",
   "execution_count": 38,
   "id": "28bb1d3f",
   "metadata": {},
   "outputs": [
    {
     "data": {
      "text/plain": [
       "array([4., 6., 2., 1.])"
      ]
     },
     "execution_count": 38,
     "metadata": {},
     "output_type": "execute_result"
    }
   ],
   "source": [
    "arr2[1,:]\n",
    "# Extracting the 2nd row (.i.e. 1st index) with all columns, "
   ]
  },
  {
   "cell_type": "markdown",
   "id": "87597343",
   "metadata": {},
   "source": [
    "### 5. Basic Statistics"
   ]
  },
  {
   "cell_type": "code",
   "execution_count": 39,
   "id": "73111599",
   "metadata": {},
   "outputs": [
    {
     "data": {
      "text/plain": [
       "array([[9., 0., 4., 6.],\n",
       "       [4., 6., 2., 1.]])"
      ]
     },
     "execution_count": 39,
     "metadata": {},
     "output_type": "execute_result"
    }
   ],
   "source": [
    "arr2"
   ]
  },
  {
   "cell_type": "code",
   "execution_count": 40,
   "id": "601d26a3",
   "metadata": {},
   "outputs": [
    {
     "data": {
      "text/plain": [
       "0.0"
      ]
     },
     "execution_count": 40,
     "metadata": {},
     "output_type": "execute_result"
    }
   ],
   "source": [
    "arr2.min()\n",
    "# function for finding the minimum value in an array"
   ]
  },
  {
   "cell_type": "code",
   "execution_count": 41,
   "id": "3ad980cd",
   "metadata": {},
   "outputs": [
    {
     "data": {
      "text/plain": [
       "9.0"
      ]
     },
     "execution_count": 41,
     "metadata": {},
     "output_type": "execute_result"
    }
   ],
   "source": [
    "arr2.max()\n",
    "# function for finding the maximum value in an array"
   ]
  },
  {
   "cell_type": "code",
   "execution_count": 42,
   "id": "2ab8b8f8",
   "metadata": {},
   "outputs": [
    {
     "data": {
      "text/plain": [
       "32.0"
      ]
     },
     "execution_count": 42,
     "metadata": {},
     "output_type": "execute_result"
    }
   ],
   "source": [
    "arr2.sum()\n",
    "# function for finding the sum of all elements in an array"
   ]
  },
  {
   "cell_type": "code",
   "execution_count": 43,
   "id": "5239ea05",
   "metadata": {},
   "outputs": [
    {
     "data": {
      "text/plain": [
       "4.0"
      ]
     },
     "execution_count": 43,
     "metadata": {},
     "output_type": "execute_result"
    }
   ],
   "source": [
    "arr2.mean()\n",
    "# function for finding the mean of all the values in an array"
   ]
  },
  {
   "cell_type": "code",
   "execution_count": 44,
   "id": "1b33dda5",
   "metadata": {},
   "outputs": [
    {
     "data": {
      "text/plain": [
       "4.0"
      ]
     },
     "execution_count": 44,
     "metadata": {},
     "output_type": "execute_result"
    }
   ],
   "source": [
    "np.median(arr2)\n",
    "# function for finding the median of all the values in an array"
   ]
  },
  {
   "cell_type": "code",
   "execution_count": 45,
   "id": "52a73cb5",
   "metadata": {},
   "outputs": [
    {
     "data": {
      "text/plain": [
       "4.0"
      ]
     },
     "execution_count": 45,
     "metadata": {},
     "output_type": "execute_result"
    }
   ],
   "source": [
    "np.average(arr2)\n",
    "# function for finding the average of all the values in an array"
   ]
  },
  {
   "cell_type": "code",
   "execution_count": 46,
   "id": "421f8aed",
   "metadata": {},
   "outputs": [
    {
     "data": {
      "text/plain": [
       "7.75"
      ]
     },
     "execution_count": 46,
     "metadata": {},
     "output_type": "execute_result"
    }
   ],
   "source": [
    "np.var(arr2)"
   ]
  },
  {
   "cell_type": "markdown",
   "id": "4649de13",
   "metadata": {},
   "source": [
    "### 6. Reshaping and Flattening"
   ]
  },
  {
   "cell_type": "code",
   "execution_count": 47,
   "id": "9032f789",
   "metadata": {},
   "outputs": [
    {
     "data": {
      "text/plain": [
       "array([[9., 0., 4., 6.],\n",
       "       [4., 6., 2., 1.]])"
      ]
     },
     "execution_count": 47,
     "metadata": {},
     "output_type": "execute_result"
    }
   ],
   "source": [
    "arr2"
   ]
  },
  {
   "cell_type": "code",
   "execution_count": 48,
   "id": "a80f3f72",
   "metadata": {},
   "outputs": [
    {
     "data": {
      "text/plain": [
       "(2, 4)"
      ]
     },
     "execution_count": 48,
     "metadata": {},
     "output_type": "execute_result"
    }
   ],
   "source": [
    "arr2.shape\n",
    "# Function to find the current shape .i.e. no. of rows and columns in an array"
   ]
  },
  {
   "cell_type": "code",
   "execution_count": 49,
   "id": "88210aea",
   "metadata": {},
   "outputs": [
    {
     "data": {
      "text/plain": [
       "array([[9., 0.],\n",
       "       [4., 6.],\n",
       "       [4., 6.],\n",
       "       [2., 1.]])"
      ]
     },
     "execution_count": 49,
     "metadata": {},
     "output_type": "execute_result"
    }
   ],
   "source": [
    "arr2.reshape(4,2)\n",
    "# arrName.reshape(desired rows,desired columns)\n",
    "# function to reshape the array to desired numbers of rows and columns."
   ]
  },
  {
   "cell_type": "code",
   "execution_count": 50,
   "id": "003ccf95",
   "metadata": {},
   "outputs": [
    {
     "data": {
      "text/plain": [
       "array([[9., 0., 4., 6., 4., 6., 2., 1.]])"
      ]
     },
     "execution_count": 50,
     "metadata": {},
     "output_type": "execute_result"
    }
   ],
   "source": [
    "arr2.reshape(1,8)"
   ]
  },
  {
   "cell_type": "code",
   "execution_count": 51,
   "id": "6eca3651",
   "metadata": {},
   "outputs": [
    {
     "data": {
      "text/plain": [
       "array([[9.],\n",
       "       [0.],\n",
       "       [4.],\n",
       "       [6.],\n",
       "       [4.],\n",
       "       [6.],\n",
       "       [2.],\n",
       "       [1.]])"
      ]
     },
     "execution_count": 51,
     "metadata": {},
     "output_type": "execute_result"
    }
   ],
   "source": [
    "arr2.reshape(8,1)"
   ]
  },
  {
   "cell_type": "code",
   "execution_count": 52,
   "id": "de749935",
   "metadata": {},
   "outputs": [
    {
     "data": {
      "text/plain": [
       "array([[9., 0., 4., 6.],\n",
       "       [4., 6., 2., 1.]])"
      ]
     },
     "execution_count": 52,
     "metadata": {},
     "output_type": "execute_result"
    }
   ],
   "source": [
    "arr2"
   ]
  },
  {
   "cell_type": "code",
   "execution_count": 53,
   "id": "7ef823dd",
   "metadata": {},
   "outputs": [],
   "source": [
    "f1 = arr2.flatten()\n",
    "# newArray = OldArray.flatten()\n",
    "# flatten helps in reshaping any multidimensional array into a strict One-Dimensional Array"
   ]
  },
  {
   "cell_type": "code",
   "execution_count": 54,
   "id": "8633fb4d",
   "metadata": {},
   "outputs": [
    {
     "data": {
      "text/plain": [
       "array([9., 0., 4., 6., 4., 6., 2., 1.])"
      ]
     },
     "execution_count": 54,
     "metadata": {},
     "output_type": "execute_result"
    }
   ],
   "source": [
    "f1"
   ]
  },
  {
   "cell_type": "markdown",
   "id": "5e3c441e",
   "metadata": {},
   "source": [
    "arr2 which was previously 2 X 4 is now converted into a One Dimensional Array : 1 X 8"
   ]
  },
  {
   "cell_type": "code",
   "execution_count": 55,
   "id": "296151b0",
   "metadata": {},
   "outputs": [
    {
     "data": {
      "text/plain": [
       "2"
      ]
     },
     "execution_count": 55,
     "metadata": {},
     "output_type": "execute_result"
    }
   ],
   "source": [
    "arr2.ndim\n",
    "# finding the dimension of arr2"
   ]
  },
  {
   "cell_type": "code",
   "execution_count": 56,
   "id": "bfb90aa6",
   "metadata": {},
   "outputs": [
    {
     "data": {
      "text/plain": [
       "1"
      ]
     },
     "execution_count": 56,
     "metadata": {},
     "output_type": "execute_result"
    }
   ],
   "source": [
    "f1.ndim\n",
    "# finding the dimension of f1 (flattened array); just to confirm"
   ]
  },
  {
   "cell_type": "markdown",
   "id": "11a0b2a7",
   "metadata": {},
   "source": [
    "### 7. Creating Random Arrays and Sequences"
   ]
  },
  {
   "cell_type": "markdown",
   "id": "9698e244",
   "metadata": {},
   "source": [
    "np.arange()"
   ]
  },
  {
   "cell_type": "code",
   "execution_count": 57,
   "id": "ad93c9e9",
   "metadata": {},
   "outputs": [
    {
     "data": {
      "text/plain": [
       "array([0, 1, 2, 3, 4, 5, 6, 7, 8, 9])"
      ]
     },
     "execution_count": 57,
     "metadata": {},
     "output_type": "execute_result"
    }
   ],
   "source": [
    "np.arange(10)\n",
    "# np.arange(no.of elements wanted)\n",
    "# Creating a random array starting from index 0 to index 9 .i.e 10 elements"
   ]
  },
  {
   "cell_type": "code",
   "execution_count": 59,
   "id": "824869be",
   "metadata": {},
   "outputs": [
    {
     "data": {
      "text/plain": [
       "array([2, 3, 4, 5, 6, 7, 8, 9])"
      ]
     },
     "execution_count": 59,
     "metadata": {},
     "output_type": "execute_result"
    }
   ],
   "source": [
    "np.arange(2, 10)\n",
    "# np.arange(element to start with, element to end before)"
   ]
  },
  {
   "cell_type": "code",
   "execution_count": 61,
   "id": "ccb6249d",
   "metadata": {},
   "outputs": [
    {
     "data": {
      "text/plain": [
       "array([0, 2, 4, 6, 8])"
      ]
     },
     "execution_count": 61,
     "metadata": {},
     "output_type": "execute_result"
    }
   ],
   "source": [
    "np.arange(0, 10, 2)\n",
    "#np.arange(element to start with, element to end before, step size or difference b/w consecutive elements)"
   ]
  },
  {
   "cell_type": "code",
   "execution_count": 63,
   "id": "83ff017b",
   "metadata": {},
   "outputs": [
    {
     "data": {
      "text/plain": [
       "array([10,  9,  8,  7,  6,  5,  4,  3,  2,  1])"
      ]
     },
     "execution_count": 63,
     "metadata": {},
     "output_type": "execute_result"
    }
   ],
   "source": [
    "np.arange(10 , 0, -1)\n",
    "# descending order"
   ]
  },
  {
   "cell_type": "markdown",
   "id": "3d26788f",
   "metadata": {},
   "source": [
    "np.linspace()"
   ]
  },
  {
   "cell_type": "code",
   "execution_count": 65,
   "id": "001622e1",
   "metadata": {},
   "outputs": [
    {
     "data": {
      "text/plain": [
       "array([ 1. ,  5.5, 10. ])"
      ]
     },
     "execution_count": 65,
     "metadata": {},
     "output_type": "execute_result"
    }
   ],
   "source": [
    "np.linspace(1,10,3)\n",
    "# np.linspace(element to start from, element to end with, no.of total elements)\n",
    "# stepsize or difference b/w the elements is automatically calculated and is equal to one another."
   ]
  },
  {
   "cell_type": "code",
   "execution_count": 66,
   "id": "06c07d38",
   "metadata": {},
   "outputs": [
    {
     "data": {
      "text/plain": [
       "array([ 1.,  4.,  7., 10.])"
      ]
     },
     "execution_count": 66,
     "metadata": {},
     "output_type": "execute_result"
    }
   ],
   "source": [
    "np.linspace(1, 10, 4)"
   ]
  },
  {
   "cell_type": "markdown",
   "id": "e734acec",
   "metadata": {},
   "source": [
    "npzeros()"
   ]
  },
  {
   "cell_type": "code",
   "execution_count": 73,
   "id": "02ae6088",
   "metadata": {},
   "outputs": [
    {
     "data": {
      "text/plain": [
       "array([[0., 0.],\n",
       "       [0., 0.],\n",
       "       [0., 0.]])"
      ]
     },
     "execution_count": 73,
     "metadata": {},
     "output_type": "execute_result"
    }
   ],
   "source": [
    "np.zeros([3,2])\n",
    "# np.zeros([rows, columns])"
   ]
  },
  {
   "cell_type": "code",
   "execution_count": 75,
   "id": "307bbd0f",
   "metadata": {},
   "outputs": [
    {
     "data": {
      "text/plain": [
       "array([[[0., 0., 0., 0.],\n",
       "        [0., 0., 0., 0.],\n",
       "        [0., 0., 0., 0.]],\n",
       "\n",
       "       [[0., 0., 0., 0.],\n",
       "        [0., 0., 0., 0.],\n",
       "        [0., 0., 0., 0.]]])"
      ]
     },
     "execution_count": 75,
     "metadata": {},
     "output_type": "execute_result"
    }
   ],
   "source": [
    "np.zeros([2,3,4])"
   ]
  },
  {
   "cell_type": "markdown",
   "id": "78cd20c8",
   "metadata": {},
   "source": [
    "### 8. Unique Items and Count"
   ]
  },
  {
   "cell_type": "code",
   "execution_count": 76,
   "id": "127552c5",
   "metadata": {},
   "outputs": [],
   "source": [
    "arr = [[1, 4, 5, 2, 2, 5],\n",
    "       [4, 4, 1, 7, 4, 5]]"
   ]
  },
  {
   "cell_type": "code",
   "execution_count": 77,
   "id": "5d58ff0f",
   "metadata": {},
   "outputs": [
    {
     "data": {
      "text/plain": [
       "[[1, 4, 5, 2, 2, 5], [4, 4, 1, 7, 4, 5]]"
      ]
     },
     "execution_count": 77,
     "metadata": {},
     "output_type": "execute_result"
    }
   ],
   "source": [
    "arr"
   ]
  },
  {
   "cell_type": "code",
   "execution_count": 86,
   "id": "fefe0d98",
   "metadata": {},
   "outputs": [
    {
     "data": {
      "text/plain": [
       "array([1, 2, 4, 5, 7])"
      ]
     },
     "execution_count": 86,
     "metadata": {},
     "output_type": "execute_result"
    }
   ],
   "source": [
    "u_val\n",
    "# function to find the unique elements in an array"
   ]
  },
  {
   "cell_type": "code",
   "execution_count": 82,
   "id": "65616bf2",
   "metadata": {},
   "outputs": [],
   "source": [
    "count = np.unique(arr, return_counts = True)\n",
    "# function to count the ni. of times each unique element has appeared in the array"
   ]
  },
  {
   "cell_type": "code",
   "execution_count": 80,
   "id": "6964945d",
   "metadata": {},
   "outputs": [
    {
     "data": {
      "text/plain": [
       "array([2, 2, 4, 3, 1], dtype=int64)"
      ]
     },
     "execution_count": 80,
     "metadata": {},
     "output_type": "execute_result"
    }
   ],
   "source": [
    "count\n",
    "# below output shows that 1 is there 2times, 2 is there 2times, 4 is there 4 times, 5 is there 3 times, 7 is there is 1 times"
   ]
  }
 ],
 "metadata": {
  "kernelspec": {
   "display_name": "Python 3",
   "language": "python",
   "name": "python3"
  },
  "language_info": {
   "codemirror_mode": {
    "name": "ipython",
    "version": 3
   },
   "file_extension": ".py",
   "mimetype": "text/x-python",
   "name": "python",
   "nbconvert_exporter": "python",
   "pygments_lexer": "ipython3",
   "version": "3.8.8"
  }
 },
 "nbformat": 4,
 "nbformat_minor": 5
}
