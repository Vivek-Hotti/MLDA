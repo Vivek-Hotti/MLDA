{
 "cells": [
  {
   "cell_type": "markdown",
   "id": "49d94d22",
   "metadata": {},
   "source": [
    "# Categorical Data"
   ]
  },
  {
   "cell_type": "markdown",
   "id": "abcb1d41",
   "metadata": {},
   "source": [
    "## Converting Categorical Data into numeric data"
   ]
  },
  {
   "cell_type": "markdown",
   "id": "097ed630",
   "metadata": {},
   "source": [
    "### Importing Library"
   ]
  },
  {
   "cell_type": "code",
   "execution_count": 1,
   "id": "5742e029",
   "metadata": {},
   "outputs": [],
   "source": [
    "import pandas as pd\n",
    "import numpy as np"
   ]
  },
  {
   "cell_type": "markdown",
   "id": "911ea36e",
   "metadata": {},
   "source": [
    "### Loading Data"
   ]
  },
  {
   "cell_type": "code",
   "execution_count": 2,
   "id": "e45f2ec4",
   "metadata": {},
   "outputs": [],
   "source": [
    "data = pd.read_csv('C:\\\\Users\\\\Vivek hotti\\\\Desktop\\\\Practice\\\\ML DA\\\\HRDataset.csv')"
   ]
  },
  {
   "cell_type": "code",
   "execution_count": 3,
   "id": "397012d3",
   "metadata": {},
   "outputs": [
    {
     "data": {
      "text/html": [
       "<div>\n",
       "<style scoped>\n",
       "    .dataframe tbody tr th:only-of-type {\n",
       "        vertical-align: middle;\n",
       "    }\n",
       "\n",
       "    .dataframe tbody tr th {\n",
       "        vertical-align: top;\n",
       "    }\n",
       "\n",
       "    .dataframe thead th {\n",
       "        text-align: right;\n",
       "    }\n",
       "</style>\n",
       "<table border=\"1\" class=\"dataframe\">\n",
       "  <thead>\n",
       "    <tr style=\"text-align: right;\">\n",
       "      <th></th>\n",
       "      <th>Emp_ID</th>\n",
       "      <th>Salary</th>\n",
       "      <th>Gender</th>\n",
       "      <th>Remarks</th>\n",
       "    </tr>\n",
       "  </thead>\n",
       "  <tbody>\n",
       "    <tr>\n",
       "      <th>0</th>\n",
       "      <td>10026</td>\n",
       "      <td>62506</td>\n",
       "      <td>Male</td>\n",
       "      <td>Nice</td>\n",
       "    </tr>\n",
       "    <tr>\n",
       "      <th>1</th>\n",
       "      <td>10084</td>\n",
       "      <td>104437</td>\n",
       "      <td>Male</td>\n",
       "      <td>Good</td>\n",
       "    </tr>\n",
       "    <tr>\n",
       "      <th>2</th>\n",
       "      <td>10196</td>\n",
       "      <td>64955</td>\n",
       "      <td>Female</td>\n",
       "      <td>Good</td>\n",
       "    </tr>\n",
       "    <tr>\n",
       "      <th>3</th>\n",
       "      <td>10088</td>\n",
       "      <td>64991</td>\n",
       "      <td>Female</td>\n",
       "      <td>Nice</td>\n",
       "    </tr>\n",
       "    <tr>\n",
       "      <th>4</th>\n",
       "      <td>10069</td>\n",
       "      <td>50825</td>\n",
       "      <td>Female</td>\n",
       "      <td>Nice</td>\n",
       "    </tr>\n",
       "  </tbody>\n",
       "</table>\n",
       "</div>"
      ],
      "text/plain": [
       "   Emp_ID  Salary  Gender Remarks\n",
       "0   10026   62506   Male     Nice\n",
       "1   10084  104437   Male    Good \n",
       "2   10196   64955  Female   Good \n",
       "3   10088   64991  Female    Nice\n",
       "4   10069   50825  Female    Nice"
      ]
     },
     "execution_count": 3,
     "metadata": {},
     "output_type": "execute_result"
    }
   ],
   "source": [
    "data.head()"
   ]
  },
  {
   "cell_type": "markdown",
   "id": "5754281a",
   "metadata": {},
   "source": [
    "### Checking the Labels in the column"
   ]
  },
  {
   "cell_type": "code",
   "execution_count": 4,
   "id": "fb19d2a5",
   "metadata": {},
   "outputs": [
    {
     "data": {
      "text/plain": [
       "array(['Male ', 'Female'], dtype=object)"
      ]
     },
     "execution_count": 4,
     "metadata": {},
     "output_type": "execute_result"
    }
   ],
   "source": [
    "data['Gender'].unique()\n",
    "# data['Column_name'].unique()\n",
    "# Helps in extracting the no. of various categories of data present in that column. .i.e. in Gender section there will be either Male category or Female category.\n",
    "# in this case it is showing us Male and Female are the two categories mentioned in the Gender Column."
   ]
  },
  {
   "cell_type": "code",
   "execution_count": 5,
   "id": "2a4d61f8",
   "metadata": {},
   "outputs": [
    {
     "data": {
      "text/plain": [
       "array(['Nice', 'Good ', 'Excellent'], dtype=object)"
      ]
     },
     "execution_count": 5,
     "metadata": {},
     "output_type": "execute_result"
    }
   ],
   "source": [
    "data['Remarks'].unique()\n",
    "# in this case it is showing us Nice and Good are the two categories mentioned in the Remarks Column."
   ]
  },
  {
   "cell_type": "markdown",
   "id": "85b101bc",
   "metadata": {},
   "source": [
    "### Checking Count of each label"
   ]
  },
  {
   "cell_type": "code",
   "execution_count": 6,
   "id": "722a9d45",
   "metadata": {},
   "outputs": [
    {
     "data": {
      "text/plain": [
       "Female    176\n",
       "Male      135\n",
       "Name: Gender, dtype: int64"
      ]
     },
     "execution_count": 6,
     "metadata": {},
     "output_type": "execute_result"
    }
   ],
   "source": [
    "data['Gender'].value_counts()\n",
    "# data['Column_Name'].value_counts()\n",
    "# helps in counting the number of times (sumup) different categories are present. \n",
    "# In this case, in the above data set, in the column Gender, there are two data categories : Male & Female. Females are present 176 times in the dataset, while Males are present 135 times in the dataset."
   ]
  },
  {
   "cell_type": "code",
   "execution_count": 7,
   "id": "cda1f2b5",
   "metadata": {},
   "outputs": [
    {
     "data": {
      "text/plain": [
       "Nice         148\n",
       "Good         110\n",
       "Excellent     53\n",
       "Name: Remarks, dtype: int64"
      ]
     },
     "execution_count": 7,
     "metadata": {},
     "output_type": "execute_result"
    }
   ],
   "source": [
    "data['Remarks'].value_counts()"
   ]
  },
  {
   "cell_type": "markdown",
   "id": "374393e3",
   "metadata": {},
   "source": [
    "# Approach 1 - Label Encoding"
   ]
  },
  {
   "cell_type": "markdown",
   "id": "ce505c5d",
   "metadata": {},
   "source": [
    "Label Encoder encodes labels with value between 0 and the (number_of_class) -1"
   ]
  },
  {
   "cell_type": "code",
   "execution_count": 8,
   "id": "766557aa",
   "metadata": {},
   "outputs": [],
   "source": [
    "from sklearn.preprocessing import LabelEncoder\n",
    "label_encoder_X = LabelEncoder()\n",
    "# importing Label Encoding Library"
   ]
  },
  {
   "cell_type": "code",
   "execution_count": 9,
   "id": "a2753c3a",
   "metadata": {},
   "outputs": [],
   "source": [
    "label_encoded_data = label_encoder_X.fit_transform(data['Remarks'])\n",
    "# encoded = encoderFunction.fit_transform(data['ColumnName'])\n",
    "# converts different categories of string data into respective numeric values."
   ]
  },
  {
   "cell_type": "code",
   "execution_count": 10,
   "id": "4f74fdbc",
   "metadata": {},
   "outputs": [
    {
     "data": {
      "text/plain": [
       "array([2, 1, 1, 2, 2, 2, 1, 2, 1, 0, 1, 1, 1, 2, 0, 1, 2, 2, 1, 2, 2, 0,\n",
       "       1, 1, 2, 2, 2, 0, 2, 1, 0, 1, 1, 1, 2, 2, 1, 2, 2, 0, 2, 2, 2, 1,\n",
       "       1, 2, 2, 2, 1, 2, 1, 0, 1, 1, 1, 2, 2, 1, 2, 2, 1, 0, 2, 2, 1, 1,\n",
       "       2, 2, 2, 1, 0, 1, 2, 1, 1, 1, 2, 2, 0, 2, 2, 1, 2, 2, 2, 0, 1, 2,\n",
       "       2, 2, 1, 2, 0, 2, 1, 1, 1, 2, 2, 1, 2, 0, 1, 2, 2, 2, 1, 1, 0, 2,\n",
       "       2, 1, 2, 1, 2, 1, 0, 1, 0, 2, 1, 2, 2, 0, 2, 2, 2, 1, 0, 2, 2, 2,\n",
       "       1, 0, 1, 2, 1, 1, 1, 0, 2, 1, 2, 2, 0, 2, 2, 2, 1, 1, 2, 0, 2, 1,\n",
       "       2, 1, 2, 1, 1, 1, 0, 2, 1, 2, 2, 1, 2, 2, 2, 1, 0, 2, 2, 2, 1, 2,\n",
       "       1, 2, 1, 1, 1, 0, 2, 1, 2, 2, 1, 2, 2, 2, 0, 1, 2, 2, 2, 1, 2, 1,\n",
       "       0, 1, 1, 1, 2, 2, 1, 2, 2, 1, 2, 2, 0, 1, 1, 2, 2, 2, 1, 2, 0, 2,\n",
       "       1, 1, 1, 2, 2, 1, 2, 2, 1, 0, 2, 2, 1, 1, 2, 2, 0, 0, 0, 0, 2, 1,\n",
       "       1, 1, 2, 2, 1, 2, 2, 1, 2, 2, 2, 1, 1, 2, 0, 0, 0, 0, 0, 0, 0, 0,\n",
       "       0, 2, 2, 1, 2, 2, 1, 2, 2, 2, 1, 1, 2, 2, 2, 1, 2, 1, 0, 0, 0, 0,\n",
       "       0, 0, 1, 2, 2, 1, 2, 2, 2, 1, 1, 2, 2, 2, 1, 2, 1, 2, 1, 0, 0, 0,\n",
       "       0, 1, 2])"
      ]
     },
     "execution_count": 10,
     "metadata": {},
     "output_type": "execute_result"
    }
   ],
   "source": [
    "label_encoded_data\n",
    "# printing the dataset"
   ]
  },
  {
   "cell_type": "code",
   "execution_count": 11,
   "id": "90989aff",
   "metadata": {},
   "outputs": [],
   "source": [
    "label_encoded_data = pd.DataFrame(data = label_encoded_data, columns = ['Remarks'])\n",
    "# creating a dataframe of the above dataset."
   ]
  },
  {
   "cell_type": "code",
   "execution_count": 12,
   "id": "c872c104",
   "metadata": {},
   "outputs": [
    {
     "data": {
      "text/html": [
       "<div>\n",
       "<style scoped>\n",
       "    .dataframe tbody tr th:only-of-type {\n",
       "        vertical-align: middle;\n",
       "    }\n",
       "\n",
       "    .dataframe tbody tr th {\n",
       "        vertical-align: top;\n",
       "    }\n",
       "\n",
       "    .dataframe thead th {\n",
       "        text-align: right;\n",
       "    }\n",
       "</style>\n",
       "<table border=\"1\" class=\"dataframe\">\n",
       "  <thead>\n",
       "    <tr style=\"text-align: right;\">\n",
       "      <th></th>\n",
       "      <th>Remarks</th>\n",
       "    </tr>\n",
       "  </thead>\n",
       "  <tbody>\n",
       "    <tr>\n",
       "      <th>0</th>\n",
       "      <td>2</td>\n",
       "    </tr>\n",
       "    <tr>\n",
       "      <th>1</th>\n",
       "      <td>1</td>\n",
       "    </tr>\n",
       "    <tr>\n",
       "      <th>2</th>\n",
       "      <td>1</td>\n",
       "    </tr>\n",
       "    <tr>\n",
       "      <th>3</th>\n",
       "      <td>2</td>\n",
       "    </tr>\n",
       "    <tr>\n",
       "      <th>4</th>\n",
       "      <td>2</td>\n",
       "    </tr>\n",
       "    <tr>\n",
       "      <th>...</th>\n",
       "      <td>...</td>\n",
       "    </tr>\n",
       "    <tr>\n",
       "      <th>306</th>\n",
       "      <td>0</td>\n",
       "    </tr>\n",
       "    <tr>\n",
       "      <th>307</th>\n",
       "      <td>0</td>\n",
       "    </tr>\n",
       "    <tr>\n",
       "      <th>308</th>\n",
       "      <td>0</td>\n",
       "    </tr>\n",
       "    <tr>\n",
       "      <th>309</th>\n",
       "      <td>1</td>\n",
       "    </tr>\n",
       "    <tr>\n",
       "      <th>310</th>\n",
       "      <td>2</td>\n",
       "    </tr>\n",
       "  </tbody>\n",
       "</table>\n",
       "<p>311 rows × 1 columns</p>\n",
       "</div>"
      ],
      "text/plain": [
       "     Remarks\n",
       "0          2\n",
       "1          1\n",
       "2          1\n",
       "3          2\n",
       "4          2\n",
       "..       ...\n",
       "306        0\n",
       "307        0\n",
       "308        0\n",
       "309        1\n",
       "310        2\n",
       "\n",
       "[311 rows x 1 columns]"
      ]
     },
     "execution_count": 12,
     "metadata": {},
     "output_type": "execute_result"
    }
   ],
   "source": [
    "label_encoded_data\n",
    "# printing the dataframe"
   ]
  },
  {
   "cell_type": "code",
   "execution_count": 13,
   "id": "008c5702",
   "metadata": {},
   "outputs": [
    {
     "data": {
      "text/plain": [
       "array([2, 1, 0])"
      ]
     },
     "execution_count": 13,
     "metadata": {},
     "output_type": "execute_result"
    }
   ],
   "source": [
    "label_encoded_data['Remarks'].unique()\n",
    "# printing the numbers that were replaced instead of words"
   ]
  },
  {
   "cell_type": "markdown",
   "id": "839ce5e1",
   "metadata": {},
   "source": [
    "Nice is assigned the value - 2 <br/>\n",
    "Good is assigned the value - 1 <br/>\n",
    "Excellent is assigned the value - 0 <br/>"
   ]
  },
  {
   "cell_type": "markdown",
   "id": "663c1f2d",
   "metadata": {},
   "source": [
    "# Approach 2 - One Hot Encoding"
   ]
  },
  {
   "cell_type": "markdown",
   "id": "835458d4",
   "metadata": {},
   "source": [
    "Binary Labelling with 1 at position where the label is present else 0"
   ]
  },
  {
   "cell_type": "code",
   "execution_count": 14,
   "id": "077a63ba",
   "metadata": {},
   "outputs": [],
   "source": [
    "one_hot_encoded_data = pd.get_dummies(data, columns=['Remarks', 'Gender'])\n",
    "# encoded_data = pd.get_dummies(dataframeName, columns=['ColumnName1', 'ColumnName2',...])\n",
    "# the main purpose of One Hot Encoding (Binary Transformation) is that it creates unique columns based on the various labels we have in the columns."
   ]
  },
  {
   "cell_type": "code",
   "execution_count": 15,
   "id": "c097d27b",
   "metadata": {},
   "outputs": [
    {
     "data": {
      "text/html": [
       "<div>\n",
       "<style scoped>\n",
       "    .dataframe tbody tr th:only-of-type {\n",
       "        vertical-align: middle;\n",
       "    }\n",
       "\n",
       "    .dataframe tbody tr th {\n",
       "        vertical-align: top;\n",
       "    }\n",
       "\n",
       "    .dataframe thead th {\n",
       "        text-align: right;\n",
       "    }\n",
       "</style>\n",
       "<table border=\"1\" class=\"dataframe\">\n",
       "  <thead>\n",
       "    <tr style=\"text-align: right;\">\n",
       "      <th></th>\n",
       "      <th>Emp_ID</th>\n",
       "      <th>Salary</th>\n",
       "      <th>Remarks_Excellent</th>\n",
       "      <th>Remarks_Good</th>\n",
       "      <th>Remarks_Nice</th>\n",
       "      <th>Gender_Female</th>\n",
       "      <th>Gender_Male</th>\n",
       "    </tr>\n",
       "  </thead>\n",
       "  <tbody>\n",
       "    <tr>\n",
       "      <th>0</th>\n",
       "      <td>10026</td>\n",
       "      <td>62506</td>\n",
       "      <td>0</td>\n",
       "      <td>0</td>\n",
       "      <td>1</td>\n",
       "      <td>0</td>\n",
       "      <td>1</td>\n",
       "    </tr>\n",
       "    <tr>\n",
       "      <th>1</th>\n",
       "      <td>10084</td>\n",
       "      <td>104437</td>\n",
       "      <td>0</td>\n",
       "      <td>1</td>\n",
       "      <td>0</td>\n",
       "      <td>0</td>\n",
       "      <td>1</td>\n",
       "    </tr>\n",
       "    <tr>\n",
       "      <th>2</th>\n",
       "      <td>10196</td>\n",
       "      <td>64955</td>\n",
       "      <td>0</td>\n",
       "      <td>1</td>\n",
       "      <td>0</td>\n",
       "      <td>1</td>\n",
       "      <td>0</td>\n",
       "    </tr>\n",
       "    <tr>\n",
       "      <th>3</th>\n",
       "      <td>10088</td>\n",
       "      <td>64991</td>\n",
       "      <td>0</td>\n",
       "      <td>0</td>\n",
       "      <td>1</td>\n",
       "      <td>1</td>\n",
       "      <td>0</td>\n",
       "    </tr>\n",
       "    <tr>\n",
       "      <th>4</th>\n",
       "      <td>10069</td>\n",
       "      <td>50825</td>\n",
       "      <td>0</td>\n",
       "      <td>0</td>\n",
       "      <td>1</td>\n",
       "      <td>1</td>\n",
       "      <td>0</td>\n",
       "    </tr>\n",
       "    <tr>\n",
       "      <th>...</th>\n",
       "      <td>...</td>\n",
       "      <td>...</td>\n",
       "      <td>...</td>\n",
       "      <td>...</td>\n",
       "      <td>...</td>\n",
       "      <td>...</td>\n",
       "      <td>...</td>\n",
       "    </tr>\n",
       "    <tr>\n",
       "      <th>306</th>\n",
       "      <td>10135</td>\n",
       "      <td>65893</td>\n",
       "      <td>1</td>\n",
       "      <td>0</td>\n",
       "      <td>0</td>\n",
       "      <td>0</td>\n",
       "      <td>1</td>\n",
       "    </tr>\n",
       "    <tr>\n",
       "      <th>307</th>\n",
       "      <td>10301</td>\n",
       "      <td>48513</td>\n",
       "      <td>1</td>\n",
       "      <td>0</td>\n",
       "      <td>0</td>\n",
       "      <td>1</td>\n",
       "      <td>0</td>\n",
       "    </tr>\n",
       "    <tr>\n",
       "      <th>308</th>\n",
       "      <td>10010</td>\n",
       "      <td>220450</td>\n",
       "      <td>1</td>\n",
       "      <td>0</td>\n",
       "      <td>0</td>\n",
       "      <td>1</td>\n",
       "      <td>0</td>\n",
       "    </tr>\n",
       "    <tr>\n",
       "      <th>309</th>\n",
       "      <td>10043</td>\n",
       "      <td>89292</td>\n",
       "      <td>0</td>\n",
       "      <td>1</td>\n",
       "      <td>0</td>\n",
       "      <td>1</td>\n",
       "      <td>0</td>\n",
       "    </tr>\n",
       "    <tr>\n",
       "      <th>310</th>\n",
       "      <td>10271</td>\n",
       "      <td>45046</td>\n",
       "      <td>0</td>\n",
       "      <td>0</td>\n",
       "      <td>1</td>\n",
       "      <td>1</td>\n",
       "      <td>0</td>\n",
       "    </tr>\n",
       "  </tbody>\n",
       "</table>\n",
       "<p>311 rows × 7 columns</p>\n",
       "</div>"
      ],
      "text/plain": [
       "     Emp_ID  Salary  Remarks_Excellent  Remarks_Good   Remarks_Nice  \\\n",
       "0     10026   62506                  0              0             1   \n",
       "1     10084  104437                  0              1             0   \n",
       "2     10196   64955                  0              1             0   \n",
       "3     10088   64991                  0              0             1   \n",
       "4     10069   50825                  0              0             1   \n",
       "..      ...     ...                ...            ...           ...   \n",
       "306   10135   65893                  1              0             0   \n",
       "307   10301   48513                  1              0             0   \n",
       "308   10010  220450                  1              0             0   \n",
       "309   10043   89292                  0              1             0   \n",
       "310   10271   45046                  0              0             1   \n",
       "\n",
       "     Gender_Female  Gender_Male   \n",
       "0                0             1  \n",
       "1                0             1  \n",
       "2                1             0  \n",
       "3                1             0  \n",
       "4                1             0  \n",
       "..             ...           ...  \n",
       "306              0             1  \n",
       "307              1             0  \n",
       "308              1             0  \n",
       "309              1             0  \n",
       "310              1             0  \n",
       "\n",
       "[311 rows x 7 columns]"
      ]
     },
     "execution_count": 15,
     "metadata": {},
     "output_type": "execute_result"
    }
   ],
   "source": [
    "one_hot_encoded_data\n",
    "# printing the binary encoded data"
   ]
  }
 ],
 "metadata": {
  "kernelspec": {
   "display_name": "Python 3",
   "language": "python",
   "name": "python3"
  },
  "language_info": {
   "codemirror_mode": {
    "name": "ipython",
    "version": 3
   },
   "file_extension": ".py",
   "mimetype": "text/x-python",
   "name": "python",
   "nbconvert_exporter": "python",
   "pygments_lexer": "ipython3",
   "version": "3.8.8"
  }
 },
 "nbformat": 4,
 "nbformat_minor": 5
}
